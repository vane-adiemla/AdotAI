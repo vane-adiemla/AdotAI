{
  "nbformat": 4,
  "nbformat_minor": 0,
  "metadata": {
    "colab": {
      "provenance": []
    },
    "kernelspec": {
      "name": "python3",
      "display_name": "Python 3"
    },
    "language_info": {
      "name": "python"
    }
  },
  "cells": [
    {
      "cell_type": "code",
      "source": [
        "%pip -q install google-genai"
      ],
      "metadata": {
        "id": "UCCbECexLk_h"
      },
      "execution_count": null,
      "outputs": []
    },
    {
      "cell_type": "code",
      "source": [
        "# Configura a API Key do Google Gemini\n",
        "\n",
        "import os\n",
        "from google.colab import userdata\n",
        "\n",
        "os.environ[\"GOOGLE_API_KEY\"] = userdata.get('GOOGLE_API_KEY')"
      ],
      "metadata": {
        "id": "NfCqHo1tLk8P"
      },
      "execution_count": 2,
      "outputs": []
    },
    {
      "cell_type": "code",
      "source": [
        "# Instalar Framework de agentes do Google ################################################\n",
        "!pip install -q google-adk"
      ],
      "metadata": {
        "colab": {
          "base_uri": "https://localhost:8080/"
        },
        "id": "a1eRPalxEnj7",
        "outputId": "35884738-2036-4725-e9c0-cd864d170ebe"
      },
      "execution_count": 4,
      "outputs": [
        {
          "output_type": "stream",
          "name": "stdout",
          "text": [
            "\u001b[?25l   \u001b[90m━━━━━━━━━━━━━━━━━━━━━━━━━━━━━━━━━━━━━━━━\u001b[0m \u001b[32m0.0/1.2 MB\u001b[0m \u001b[31m?\u001b[0m eta \u001b[36m-:--:--\u001b[0m\r\u001b[2K   \u001b[91m━━━━━━━━━━━━━━━\u001b[0m\u001b[91m╸\u001b[0m\u001b[90m━━━━━━━━━━━━━━━━━━━━━━━━\u001b[0m \u001b[32m0.5/1.2 MB\u001b[0m \u001b[31m13.8 MB/s\u001b[0m eta \u001b[36m0:00:01\u001b[0m\r\u001b[2K   \u001b[90m━━━━━━━━━━━━━━━━━━━━━━━━━━━━━━━━━━━━━━━━\u001b[0m \u001b[32m1.2/1.2 MB\u001b[0m \u001b[31m17.7 MB/s\u001b[0m eta \u001b[36m0:00:00\u001b[0m\n",
            "\u001b[?25h\u001b[?25l   \u001b[90m━━━━━━━━━━━━━━━━━━━━━━━━━━━━━━━━━━━━━━━━\u001b[0m \u001b[32m0.0/232.1 kB\u001b[0m \u001b[31m?\u001b[0m eta \u001b[36m-:--:--\u001b[0m\r\u001b[2K   \u001b[90m━━━━━━━━━━━━━━━━━━━━━━━━━━━━━━━━━━━━━━━━\u001b[0m \u001b[32m232.1/232.1 kB\u001b[0m \u001b[31m18.2 MB/s\u001b[0m eta \u001b[36m0:00:00\u001b[0m\n",
            "\u001b[?25h\u001b[?25l   \u001b[90m━━━━━━━━━━━━━━━━━━━━━━━━━━━━━━━━━━━━━━━━\u001b[0m \u001b[32m0.0/95.2 kB\u001b[0m \u001b[31m?\u001b[0m eta \u001b[36m-:--:--\u001b[0m\r\u001b[2K   \u001b[90m━━━━━━━━━━━━━━━━━━━━━━━━━━━━━━━━━━━━━━━━\u001b[0m \u001b[32m95.2/95.2 kB\u001b[0m \u001b[31m8.3 MB/s\u001b[0m eta \u001b[36m0:00:00\u001b[0m\n",
            "\u001b[2K   \u001b[90m━━━━━━━━━━━━━━━━━━━━━━━━━━━━━━━━━━━━━━━━\u001b[0m \u001b[32m217.1/217.1 kB\u001b[0m \u001b[31m15.4 MB/s\u001b[0m eta \u001b[36m0:00:00\u001b[0m\n",
            "\u001b[2K   \u001b[90m━━━━━━━━━━━━━━━━━━━━━━━━━━━━━━━━━━━━━━━━\u001b[0m \u001b[32m334.1/334.1 kB\u001b[0m \u001b[31m26.5 MB/s\u001b[0m eta \u001b[36m0:00:00\u001b[0m\n",
            "\u001b[2K   \u001b[90m━━━━━━━━━━━━━━━━━━━━━━━━━━━━━━━━━━━━━━━━\u001b[0m \u001b[32m125.1/125.1 kB\u001b[0m \u001b[31m10.5 MB/s\u001b[0m eta \u001b[36m0:00:00\u001b[0m\n",
            "\u001b[2K   \u001b[90m━━━━━━━━━━━━━━━━━━━━━━━━━━━━━━━━━━━━━━━━\u001b[0m \u001b[32m65.8/65.8 kB\u001b[0m \u001b[31m5.7 MB/s\u001b[0m eta \u001b[36m0:00:00\u001b[0m\n",
            "\u001b[2K   \u001b[90m━━━━━━━━━━━━━━━━━━━━━━━━━━━━━━━━━━━━━━━━\u001b[0m \u001b[32m119.0/119.0 kB\u001b[0m \u001b[31m9.3 MB/s\u001b[0m eta \u001b[36m0:00:00\u001b[0m\n",
            "\u001b[2K   \u001b[90m━━━━━━━━━━━━━━━━━━━━━━━━━━━━━━━━━━━━━━━━\u001b[0m \u001b[32m194.9/194.9 kB\u001b[0m \u001b[31m14.7 MB/s\u001b[0m eta \u001b[36m0:00:00\u001b[0m\n",
            "\u001b[2K   \u001b[90m━━━━━━━━━━━━━━━━━━━━━━━━━━━━━━━━━━━━━━━━\u001b[0m \u001b[32m62.5/62.5 kB\u001b[0m \u001b[31m4.3 MB/s\u001b[0m eta \u001b[36m0:00:00\u001b[0m\n",
            "\u001b[2K   \u001b[90m━━━━━━━━━━━━━━━━━━━━━━━━━━━━━━━━━━━━━━━━\u001b[0m \u001b[32m103.3/103.3 kB\u001b[0m \u001b[31m8.8 MB/s\u001b[0m eta \u001b[36m0:00:00\u001b[0m\n",
            "\u001b[2K   \u001b[90m━━━━━━━━━━━━━━━━━━━━━━━━━━━━━━━━━━━━━━━━\u001b[0m \u001b[32m44.4/44.4 kB\u001b[0m \u001b[31m3.4 MB/s\u001b[0m eta \u001b[36m0:00:00\u001b[0m\n",
            "\u001b[2K   \u001b[90m━━━━━━━━━━━━━━━━━━━━━━━━━━━━━━━━━━━━━━━━\u001b[0m \u001b[32m72.0/72.0 kB\u001b[0m \u001b[31m5.7 MB/s\u001b[0m eta \u001b[36m0:00:00\u001b[0m\n",
            "\u001b[?25h"
          ]
        }
      ]
    },
    {
      "cell_type": "code",
      "source": [
        "from google import genai\n",
        "from google.adk.agents import Agent\n",
        "from google.adk.runners import Runner\n",
        "from google.adk.sessions import InMemorySessionService\n",
        "from google.adk.tools import google_search  # Importante para permitir buscas\n",
        "from google.genai import types\n",
        "from IPython.display import display, Markdown\n",
        "import textwrap\n",
        "import warnings\n",
        "\n",
        "warnings.filterwarnings(\"ignore\")\n",
        "\n",
        "client = genai.Client()\n",
        "MODEL_ID = \"gemini-2.0-flash\""
      ],
      "metadata": {
        "id": "Q8NKgHak0yx6"
      },
      "execution_count": 5,
      "outputs": []
    },
    {
      "cell_type": "code",
      "source": [
        "def call_agent(agent: Agent, message_text: str) -> str:\n",
        "    session_service = InMemorySessionService()\n",
        "    session = session_service.create_session(app_name=agent.name, user_id=\"user1\", session_id=\"session1\")\n",
        "    runner = Runner(agent=agent, app_name=agent.name, session_service=session_service)\n",
        "    content = types.Content(role=\"user\", parts=[types.Part(text=message_text)])\n",
        "\n",
        "    final_response = \"\"\n",
        "    for event in runner.run(user_id=\"user1\", session_id=\"session1\", new_message=content):\n",
        "        if event.is_final_response():\n",
        "            for part in event.content.parts:\n",
        "                if part.text is not None:\n",
        "                    final_response += part.text\n",
        "                    final_response += \"\\n\"\n",
        "    return final_response\n",
        "\n",
        "\n",
        "def to_markdown(text):\n",
        "    text = text.replace('•', '  *')\n",
        "    return Markdown(textwrap.indent(text, '> ', predicate=lambda _: True))\n",
        "\n",
        "\n",
        "####################################################\n",
        "# --- Agente de Adoção: Orientações e Formulário --- #\n",
        "####################################################\n",
        "\n",
        "adocao_agent = Agent(\n",
        "    name=\"agente_adocao\",\n",
        "    model=MODEL_ID,  # Use o mesmo MODEL_ID definido anteriormente\n",
        "    instruction=\"\"\"\n",
        "    Você é um assistente de adoção de animais. Sua tarefa é ajudar pessoas interessadas\n",
        "    no processo de adoção, fornecendo informações, respondendo perguntas e guiando-as\n",
        "    para o preenchimento de um formulário (link fictício fornecido para demonstração).\n",
        "\n",
        "    Siga estas etapas:\n",
        "\n",
        "    1. Cumprimente o usuário e pergunte como pode ajudar.\n",
        "    2. Responda a perguntas sobre adoção, como requisitos, cuidados com os animais, etc.\n",
        "            Use a ferramenta google_search para buscar informações adicionais, se necessário.\n",
        "    3. Ofereça o link para o formulário de adoção: [https://docs.google.com/forms/d/e/1FAIpQLSe7hDZPL59al_Gd1369i6p6Yx736SHhexiCl-NtMB9oYQHyTw/viewform?usp=header].\n",
        "    4. Se o usuário tiver dúvidas sobre o formulário, ajude-o a preenchê-lo.\n",
        "    5. Agradeça ao usuário e finalize a conversa.\n",
        "\n",
        "    Seja amigável, prestativo e encoraje a adoção responsável.\n",
        "    \"\"\",\n",
        "    description=\"Agente para auxiliar no processo de adoção de animais.\",\n",
        "    tools=[google_search]  # Adicione a ferramenta google_search\n",
        ")\n",
        "\n",
        "\n",
        "\n",
        "# --- Loop principal aprimorado ---\n",
        "\n",
        "print(\"🐾 Agente de Adoção de Animais 🐾\")\n",
        "print(\"Oi! Eu posso te ajudar com adoção de animais. Pode perguntar sobre os animais disponíveis, cuidados, ou pedir o formulário 🐶🐱\")\n",
        "planilha_animais_disponiveis = \"https://docs.google.com/spreadsheets/d/1U3EBw1YZR0Qt_iqeWZD0rb2kpbogJENbyIe72XXRXws/edit?usp=sharing\"\n",
        "\n",
        "\n",
        "\n",
        "while True:\n",
        "    user_input = input(\"❓ Como posso ajudar? (Digite 'sair' para encerrar): \").lower().strip()\n",
        "\n",
        "    if user_input in [\"sair\", \"encerrar\", \"tchau\"]:\n",
        "        print(\"Foi um prazer te ajudar! Obrigado por considerar a adoção responsável 💚🐾\")\n",
        "        break\n",
        "\n",
        "    elif \"adotar\" in user_input and \"gato\" in user_input:\n",
        "        print(\"\\n😺 Que ótimo que quer adotar um gatinho! Você pode ver alguns dos animais disponíveis aqui:\")\n",
        "        print(\"📋 Planilha com animais para adoção: https://docs.google.com/spreadsheets/d/1U3EBw1YZR0Qt_iqeWZD0rb2kpbogJENbyIe72XXRXws/edit?usp=sharing\")\n",
        "        print(\"Se gostar de algum, preencha este formulário: https://docs.google.com/forms/d/e/1FAIpQLSe7hDZPL59al_Gd1369i6p6Yx736SHhexiCl-NtMB9oYQHyTw/viewform?usp=header\")\n",
        "\n",
        "    elif \"formulário\" in user_input or \"formulario\" in user_input:\n",
        "        print(\"\\n📝 Você pode preencher o formulário por este link:\")\n",
        "        print(\"👉 https://docs.google.com/forms/d/e/1FAIpQLSe7hDZPL59al_Gd1369i6p6Yx736SHhexiCl-NtMB9oYQHyTw/viewform?usp=header\")\n",
        "        print(\"Se tiver dúvidas sobre o que preencher, é só me perguntar!\")\n",
        "\n",
        "    elif \"castração\" in user_input or \"castrado\" in user_input:\n",
        "        print(\"\\n📌 Todos os nossos animais são castrados antes da adoção. Isso é fundamental para o bem-estar deles e para evitar abandonos futuros.\")\n",
        "        print(\"Se tiver dúvidas sobre o procedimento ou benefícios, posso te explicar mais!\")\n",
        "\n",
        "    elif \"vacina\" in user_input:\n",
        "        print(\"\\n💉 Nossos animais são entregues com a vacinação em dia, conforme a idade. Caso precise saber sobre reforços ou vacinas obrigatórias, posso te ajudar!\")\n",
        "\n",
        "    elif \"adoção responsável\" in user_input or \"responsável\" in user_input:\n",
        "        print(\"\\n🐾 Adoção responsável significa garantir que o animal tenha um lar seguro, com alimentação, atenção, cuidados veterinários e muito amor.\")\n",
        "        print(\"Se quiser, posso te enviar uma checklist para avaliar se está tudo pronto pra receber um novo amigo!\")\n",
        "\n",
        "    else:\n",
        "        # fallback: deixar o agente Gemini responder\n",
        "        response = call_agent(adocao_agent, user_input)\n",
        "        display(to_markdown(response))\n",
        "\n",
        "    print(\"--------------------------------------------------------------\")\n"
      ],
      "metadata": {
        "colab": {
          "base_uri": "https://localhost:8080/",
          "height": 431
        },
        "id": "CAAVNh8n1CvR",
        "outputId": "bc33390b-6089-4d4d-896f-15e8fa6f4b6c"
      },
      "execution_count": null,
      "outputs": [
        {
          "name": "stdout",
          "output_type": "stream",
          "text": [
            "🐾 Agente de Adoção de Animais 🐾\n",
            "Oi! Eu posso te ajudar com adoção de animais. Pode perguntar sobre os animais disponíveis, cuidados, ou pedir o formulário 🐶🐱\n",
            "❓ Como posso ajudar? (Digite 'sair' para encerrar): olá, estou buscando um cão para adotar\n"
          ]
        },
        {
          "output_type": "display_data",
          "data": {
            "text/plain": [
              "<IPython.core.display.Markdown object>"
            ],
            "text/markdown": "> Olá! Que ótimo que você está pensando em adotar um cão! É uma decisão maravilhosa e tenho certeza de que você e seu futuro amigo peludo serão muito felizes juntos. 😊\n> \n> Como posso te ajudar nesse processo de adoção? Você tem alguma dúvida sobre os requisitos para adotar, os cuidados que um cão precisa, ou algo mais?\n> \n"
          },
          "metadata": {}
        },
        {
          "name": "stdout",
          "output_type": "stream",
          "text": [
            "--------------------------------------------------------------\n",
            "❓ Como posso ajudar? (Digite 'sair' para encerrar): queria ver os animais disponiveis\n"
          ]
        },
        {
          "output_type": "display_data",
          "data": {
            "text/plain": [
              "<IPython.core.display.Markdown object>"
            ],
            "text/markdown": "> Olá! Tudo bem? Sou seu agente de adoção e estou aqui para te ajudar a encontrar o companheiro perfeito! 😊\n> \n> No momento, não consigo mostrar os animais disponíveis diretamente por aqui. Mas posso te ajudar com informações sobre o processo de adoção, os requisitos e os cuidados necessários para receber um novo amigo em sua casa.\n> \n> Para começar, você já tem alguma preferência por tipo de animal (cão, gato, etc.) ou alguma outra característica específica que esteja buscando? Assim, posso te dar dicas mais direcionadas e te ajudar a se preparar para a adoção!\n> \n> Se quiser, posso te enviar o link do nosso formulário de adoção para você dar uma olhada. Lá você encontrará mais informações e poderá se inscrever para conhecer nossos animais disponíveis! 😊\n> \n"
          },
          "metadata": {}
        },
        {
          "output_type": "stream",
          "name": "stdout",
          "text": [
            "--------------------------------------------------------------\n"
          ]
        }
      ]
    }
  ]
}